{
 "cells": [
  {
   "cell_type": "code",
   "execution_count": null,
   "id": "c5ec989d",
   "metadata": {},
   "outputs": [],
   "source": [
    "!python -m pip install -q amazon-textract-response-parser amazon-textract-caller amazon-textract-prettyprinter boto3 --upgrade"
   ]
  },
  {
   "cell_type": "code",
   "execution_count": null,
   "id": "d87424b6",
   "metadata": {},
   "outputs": [],
   "source": [
    "import boto3\n",
    "from textractcaller import call_textract_lending\n",
    "from textractprettyprinter.t_pretty_print import convert_lending_from_trp2\n",
    "import trp.trp2_lending as tl\n"
   ]
  },
  {
   "cell_type": "markdown",
   "id": "7133379e",
   "metadata": {},
   "source": [
    "## Process Lending Document\n",
    "\n",
    "Using the Textract Caller"
   ]
  },
  {
   "cell_type": "code",
   "execution_count": null,
   "id": "60af70ae",
   "metadata": {},
   "outputs": [],
   "source": [
    "input_file = \"s3://sdx-textract-us-east-1/lending-package.pdf\"\n",
    "textract_client = boto3.client('textract', region_name='us-east-1')\n",
    "textract_json = call_textract_lending(input_document=input_file, boto3_textract_client=textract_client)\n",
    "\n"
   ]
  },
  {
   "attachments": {},
   "cell_type": "markdown",
   "id": "fad87cfc",
   "metadata": {},
   "source": [
    "## Convert the Textract Analyze Lending response to a flattened array for CSV export\n",
    "\n",
    "Using the Textract PrettyPrinter\n",
    "\n",
    "The ```convert_lending_from_trp2()``` method returns a list of [{page_classification}_{page_number_within_document_type}, page_number_in_document, key, key_confidence, value, value_confidence, key-bounding-box.top, key-bounding-box.height, key-bb.width, key-bb.left, value-bounding-box.top, value-bb.height, value-bb.width, value-bb.left]\n"
   ]
  },
  {
   "cell_type": "code",
   "execution_count": null,
   "id": "d5031674",
   "metadata": {},
   "outputs": [],
   "source": [
    "trp2_doc: tl.TFullLendingDocument = tl.TFullLendingDocumentSchema().load(textract_json)\n",
    "lending_array = convert_lending_from_trp2(trp2_doc)\n"
   ]
  },
  {
   "cell_type": "code",
   "execution_count": null,
   "id": "ddde062e",
   "metadata": {},
   "outputs": [],
   "source": [
    "for row in lending_array:\n",
    "    print(row)"
   ]
  },
  {
   "cell_type": "markdown",
   "id": "977390bd",
   "metadata": {},
   "source": [
    "## Output as CSV file"
   ]
  },
  {
   "cell_type": "code",
   "execution_count": null,
   "id": "c3a39ac6",
   "metadata": {},
   "outputs": [],
   "source": [
    "import csv\n",
    "with open(\"lending-output.csv\", \"w\") as output_f:\n",
    "  csv_writer = csv.writer(output_f)\n",
    "  csv_writer.writerows(lending_array)\n"
   ]
  },
  {
   "cell_type": "code",
   "execution_count": null,
   "id": "1148847e",
   "metadata": {},
   "outputs": [],
   "source": []
  }
 ],
 "metadata": {
  "kernelspec": {
   "display_name": "Python 3 (ipykernel)",
   "language": "python",
   "name": "python3"
  },
  "language_info": {
   "codemirror_mode": {
    "name": "ipython",
    "version": 3
   },
   "file_extension": ".py",
   "mimetype": "text/x-python",
   "name": "python",
   "nbconvert_exporter": "python",
   "pygments_lexer": "ipython3",
   "version": "3.9.6"
  }
 },
 "nbformat": 4,
 "nbformat_minor": 5
}
