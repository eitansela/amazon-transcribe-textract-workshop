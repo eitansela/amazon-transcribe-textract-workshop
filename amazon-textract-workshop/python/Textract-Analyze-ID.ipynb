{
 "cells": [
  {
   "cell_type": "markdown",
   "id": "602739d2",
   "metadata": {},
   "source": [
    "### Amazon Textract Analyze ID\n",
    "\n",
    "Amazon Textract Analyze ID will help you automatically extract information from identification documents, such as driver’s licenses and passports. Amazon Textract uses AI and ML technologies to extract information from identity documents, such as U.S. passports and driver’s licenses, without the need for templates or configuration. You can automatically extract specific information, such as date of expiry and date of birth, as well as intelligently identify and extract implied information, such as name and address."
   ]
  },
  {
   "cell_type": "markdown",
   "id": "f1cc2940",
   "metadata": {},
   "source": [
    "Installing the caller to simplify calling Analyze ID"
   ]
  },
  {
   "cell_type": "code",
   "execution_count": null,
   "id": "107b34fb",
   "metadata": {},
   "outputs": [],
   "source": [
    "!python -m pip install -q amazon-textract-caller --upgrade"
   ]
  },
  {
   "cell_type": "markdown",
   "id": "10c0b980",
   "metadata": {},
   "source": [
    "Also upgrade boto3 to make sure we are on the latest boto3 that includes Analzye ID"
   ]
  },
  {
   "cell_type": "code",
   "execution_count": null,
   "id": "cc280ce2",
   "metadata": {},
   "outputs": [],
   "source": [
    "!python -m pip install -q boto3 botocore --upgrade"
   ]
  },
  {
   "cell_type": "code",
   "execution_count": null,
   "id": "cd3d8238",
   "metadata": {},
   "outputs": [],
   "source": [
    "import boto3\n",
    "import botocore\n",
    "from textractcaller import call_textract_analyzeid"
   ]
  },
  {
   "cell_type": "markdown",
   "id": "5cb62607",
   "metadata": {},
   "source": [
    "The sample drivers license image is located in an S3 bucket in us-east-2, so we pass in that region to the boto3 client"
   ]
  },
  {
   "cell_type": "code",
   "execution_count": null,
   "id": "f85fc212",
   "metadata": {},
   "outputs": [],
   "source": [
    "textract_client = boto3.client('textract', region_name='us-east-2')\n",
    "j = call_textract_analyzeid(document_pages=[\"s3://amazon-textract-public-content/analyzeid/driverlicense.png\"], \n",
    "                            boto3_textract_client=textract_client)"
   ]
  },
  {
   "cell_type": "markdown",
   "id": "ee7dc4e8",
   "metadata": {},
   "source": [
    "printing out the JSON response"
   ]
  },
  {
   "cell_type": "code",
   "execution_count": null,
   "id": "d5417d43",
   "metadata": {},
   "outputs": [],
   "source": [
    "import json\n",
    "print(json.dumps(j, indent=2))"
   ]
  },
  {
   "cell_type": "markdown",
   "id": "c2a00b42",
   "metadata": {},
   "source": [
    "Textract Response Parser makes it easier to get values from the JSON response"
   ]
  },
  {
   "cell_type": "code",
   "execution_count": null,
   "id": "e8947a56",
   "metadata": {},
   "outputs": [],
   "source": [
    "!python -m pip install -q amazon-textract-response-parser tabulate --upgrade"
   ]
  },
  {
   "cell_type": "markdown",
   "id": "a2f8e820",
   "metadata": {},
   "source": [
    "The get_values_as_list() function returns the values as a  list of list of str in the following format\n",
    "[[\"doc_number\", \"type\", \"value\", \"confidence\", \"normalized_value\", \"normalized_value_type\"]]\n"
   ]
  },
  {
   "cell_type": "code",
   "execution_count": null,
   "id": "e4b8c205",
   "metadata": {},
   "outputs": [],
   "source": [
    "import trp.trp2_analyzeid as t2id\n",
    "\n",
    "doc: t2id.TAnalyzeIdDocument = t2id.TAnalyzeIdDocumentSchema().load(j)\n",
    "result = doc.get_values_as_list()\n",
    "result"
   ]
  },
  {
   "cell_type": "markdown",
   "id": "cb963302",
   "metadata": {},
   "source": [
    "using tablulate we get a pretty printed output"
   ]
  },
  {
   "cell_type": "code",
   "execution_count": null,
   "id": "6c4fdfef",
   "metadata": {},
   "outputs": [],
   "source": [
    "from tabulate import tabulate\n",
    "print(tabulate([x[1:3] for x in result]))"
   ]
  },
  {
   "cell_type": "markdown",
   "id": "2d09fc61",
   "metadata": {},
   "source": [
    "Just getting the FIRST_NAME"
   ]
  },
  {
   "cell_type": "code",
   "execution_count": null,
   "id": "3730f49e",
   "metadata": {},
   "outputs": [],
   "source": [
    "[x[2] for x in result if x[1]=='FIRST_NAME']"
   ]
  }
 ],
 "metadata": {
  "kernelspec": {
   "display_name": "Python 3 (ipykernel)",
   "language": "python",
   "name": "python3"
  },
  "language_info": {
   "codemirror_mode": {
    "name": "ipython",
    "version": 3
   },
   "file_extension": ".py",
   "mimetype": "text/x-python",
   "name": "python",
   "nbconvert_exporter": "python",
   "pygments_lexer": "ipython3",
   "version": "3.9.6"
  }
 },
 "nbformat": 4,
 "nbformat_minor": 5
}
