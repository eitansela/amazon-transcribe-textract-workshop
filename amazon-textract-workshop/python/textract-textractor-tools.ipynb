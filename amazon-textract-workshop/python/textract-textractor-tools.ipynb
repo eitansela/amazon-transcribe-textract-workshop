{
 "cells": [
  {
   "cell_type": "markdown",
   "id": "83a26b88",
   "metadata": {},
   "source": [
    "# Textract Textractor \n",
    "\n",
    "Textractor helps accelerate your PoCs by allowing you to quickly extract text, forms and tables from documents using Amazon Textract. It can generate output in different formats including raw JSON, JSON for each page in a document, text, text in reading order, key/values exported as CSV, and tables exported as CSV.\n",
    "\n",
    "In this notebook, you'll be using various packages for different features. The repository can be found here https://github.com/aws-samples/amazon-textract-textractor. All packages are also available on PyPI."
   ]
  },
  {
   "cell_type": "markdown",
   "id": "5d27ce5b",
   "metadata": {},
   "source": [
    "Ensure you're using the **conda_mxnet_latest_p37** kernel. **Python 3.7** is required to run the code. \n",
    "\n",
    "First, you'll upgrade to the latest version of textract-helper https://github.com/aws-samples/amazon-textract-textractor/tree/master/helper. Helper also use the caller, overlayer and pretty-printer methods."
   ]
  },
  {
   "cell_type": "code",
   "execution_count": null,
   "id": "6d8b91bf",
   "metadata": {},
   "outputs": [],
   "source": [
    "!python -m pip install -q amazon-textract-caller --upgrade\n",
    "!python -m pip install -q amazon-textract-response-parser --upgrade"
   ]
  },
  {
   "cell_type": "code",
   "execution_count": null,
   "id": "9e827fd3",
   "metadata": {},
   "outputs": [],
   "source": [
    "import boto3\n",
    "import trp\n",
    "import trp.trp2 as t2\n",
    "# Textract Caller\n",
    "from textractcaller.t_call import call_textract, Textract_Features\n",
    "# Textract Response Parser\n",
    "from trp import Document"
   ]
  },
  {
   "cell_type": "code",
   "execution_count": null,
   "id": "e8e32524",
   "metadata": {},
   "outputs": [],
   "source": [
    "# Amazon Textract client\n",
    "textract = boto3.client('textract')\n",
    "\n",
    "#Document\n",
    "documentName = \"employmentapp.png\""
   ]
  },
  {
   "cell_type": "code",
   "execution_count": null,
   "id": "1609c09e",
   "metadata": {},
   "outputs": [],
   "source": [
    "#display the document\n",
    "from IPython.display import Image\n",
    "Image(documentName)"
   ]
  },
  {
   "cell_type": "markdown",
   "id": "d9936205",
   "metadata": {},
   "source": [
    "# Textract Overlayer \n",
    "\n",
    "Textract overlayer generates bounding boxes to make it easier to draw for visualizations."
   ]
  },
  {
   "cell_type": "code",
   "execution_count": null,
   "id": "f887c2e0",
   "metadata": {},
   "outputs": [],
   "source": [
    "!python -m pip install -q amazon-textract-overlayer "
   ]
  },
  {
   "cell_type": "code",
   "execution_count": null,
   "id": "72ffc9ff",
   "metadata": {},
   "outputs": [],
   "source": [
    "from PIL import Image as PImage, ImageDraw\n",
    "image = PImage.open(documentName)\n",
    "\n",
    "#use textract caller and overlayer to get bounding boxes\n",
    "from textractoverlayer.t_overlay import DocumentDimensions, get_bounding_boxes\n",
    "from textractcaller.t_call import Textract_Features, Textract_Types, call_textract\n",
    "\n",
    "\n",
    "doc = call_textract(input_document = documentName, features = [Textract_Features.FORMS, Textract_Features.TABLES])\n",
    "\n",
    "# image is a PIL.Image.Image in this case\n",
    "document_dimension:DocumentDimensions = DocumentDimensions(doc_width=image.size[0], doc_height=image.size[1])\n",
    "    \n",
    "#return the bounding boxes for word, form, and cell types\n",
    "overlay=[Textract_Types.WORD, Textract_Types.FORM, Textract_Types.CELL]\n",
    "\n",
    "bounding_box_list = get_bounding_boxes(textract_json=doc, document_dimensions=document_dimension, overlay_features=overlay)"
   ]
  },
  {
   "cell_type": "code",
   "execution_count": null,
   "id": "867fbd9f",
   "metadata": {},
   "outputs": [],
   "source": [
    "#Show the overlay drawing of the bounding boxes on the document\n",
    "rgb_im = image.convert('RGB')\n",
    "draw = ImageDraw.Draw(rgb_im)\n",
    "\n",
    "# check the implementation in amazon-textract-helper for ways to associate different colors to types\n",
    "for bbox in bounding_box_list:\n",
    "    draw.rectangle(xy=[bbox.xmin, bbox.ymin, bbox.xmax, bbox.ymax], outline=(128, 128, 0), width=2)\n",
    "\n",
    "from IPython.display import Image\n",
    "display(rgb_im)"
   ]
  },
  {
   "cell_type": "markdown",
   "id": "14f753fe",
   "metadata": {},
   "source": [
    "# Textract Response Parser\n",
    "\n",
    "Use the Textract response parser library to parse the JSON returned by Textract. By default Textract does not put the elements identified in an order in the JSON response. This sample prints the elements in order and the confidence score."
   ]
  },
  {
   "cell_type": "code",
   "execution_count": null,
   "id": "ada3ac3b",
   "metadata": {},
   "outputs": [],
   "source": [
    "# Call Amazon Textract\n",
    "response = call_textract(input_document = documentName, \n",
    "                         features = [Textract_Features.FORMS, Textract_Features.TABLES])\n",
    "\n",
    "from trp import Document\n",
    "doc = Document(response)\n",
    "\n",
    "# Iterate over elements in the document\n",
    "for page in doc.pages:\n",
    "    # Print lines and words\n",
    "    for line in page.lines:\n",
    "        print(\"Line: {}--{}\".format(line.text, line.confidence))\n",
    "        for word in line.words:\n",
    "            print(\"Word: {}--{}\".format(word.text, word.confidence))\n",
    "\n",
    "    # Print tables\n",
    "    for table in page.tables:\n",
    "        for r, row in enumerate(table.rows):\n",
    "            for c, cell in enumerate(row.cells):\n",
    "                print(\"Table[{}][{}] = {}-{}\".format(r, c, cell.text, cell.confidence))\n",
    "\n",
    "    # Print fields\n",
    "    for field in page.form.fields:\n",
    "        key = field.key.text if field.key else \"\"\n",
    "        value = field.value.text if field.value else \"\"\n",
    "        print(\"Field: Key: {}, Value: {}\".format(key, value))\n",
    "\n",
    "    # Get field by key\n",
    "    key = \"Phone Number:\"\n",
    "    field = page.form.getFieldByKey(key)\n",
    "    if(field):\n",
    "        print(\"Field: Key: {}, Value: {}\".format(field.key, field.value))\n",
    "\n",
    "    # Search fields by key\n",
    "    key = \"address\"\n",
    "    fields = page.form.searchFieldsByKey(key)\n",
    "    for field in fields:\n",
    "        print(\"Field: Key: {}, Value: {}\".format(field.key, field.value))"
   ]
  },
  {
   "cell_type": "markdown",
   "id": "0d97401a",
   "metadata": {},
   "source": [
    "## Order blocks (WORDS, LINES, TABLE, KEY_VALUE_SET) by geometry y-axis\n",
    "\n",
    "The sample is similar to the above cell, but uses the order_blocks_by_geo function using the Serializer/Deserializer shows how to change the structure and order the elements while maintaining the schema. This way no change is necessary to integrate with existing processing."
   ]
  },
  {
   "cell_type": "code",
   "execution_count": null,
   "id": "de9a4988",
   "metadata": {},
   "outputs": [],
   "source": [
    "#from textractcaller.t_call import call_textract, Textract_Features\n",
    "from trp.trp2 import TDocument, TDocumentSchema\n",
    "from trp.t_pipeline import order_blocks_by_geo\n",
    "import trp\n",
    "\n",
    "\n",
    "j = call_textract(input_document = documentName, features=[Textract_Features.FORMS, Textract_Features.TABLES])\n",
    "# the t_doc will be not ordered\n",
    "t_doc = TDocumentSchema().load(j)\n",
    "# the ordered_doc has elements ordered by y-coordinate (top to bottom of page)\n",
    "ordered_doc = order_blocks_by_geo(t_doc)\n",
    "# send to trp for further processing logic\n",
    "trp_doc = trp.Document(TDocumentSchema().dump(ordered_doc))\n",
    "print(trp_doc)"
   ]
  },
  {
   "cell_type": "markdown",
   "id": "94fbe12f",
   "metadata": {},
   "source": [
    "# Textract Prettyprinter\n",
    "\n",
    "Textract prettyprinter formats the Textract JSON output in an easier to read format that is more consumable to use in other systems e.g. CSV, LaTeX, Markdown. "
   ]
  },
  {
   "cell_type": "code",
   "execution_count": null,
   "id": "df81a76b",
   "metadata": {},
   "outputs": [],
   "source": [
    "#new image\n",
    "imageName=\"patient_intake_form_sample.jpg\"\n",
    "\n",
    "#display the image\n",
    "from IPython.display import Image\n",
    "Image(imageName)"
   ]
  },
  {
   "cell_type": "code",
   "execution_count": null,
   "id": "34e02f11",
   "metadata": {},
   "outputs": [],
   "source": [
    "#format Textract output and print in CSV format \n",
    "from textractprettyprinter.t_pretty_print import Pretty_Print_Table_Format, Textract_Pretty_Print, get_string, get_tables_string\n",
    "from textractcaller.t_call import Textract_Features, Textract_Types, call_textract\n",
    "\n",
    "textract_json = call_textract(input_document= imageName, features=[Textract_Features.FORMS, Textract_Features.TABLES])\n",
    "print(get_string(textract_json=textract_json,\n",
    "               table_format=Pretty_Print_Table_Format.csv,\n",
    "               output_type=[Textract_Pretty_Print.FORMS, Textract_Pretty_Print.TABLES]))"
   ]
  },
  {
   "cell_type": "code",
   "execution_count": null,
   "id": "7e0ab731",
   "metadata": {},
   "outputs": [],
   "source": [
    "#call Textract\n",
    "j = call_textract(input_document=imageName, features=[Textract_Features.FORMS])\n",
    "\n",
    "#Print the key/value pairs to identify the ones that have the same name. \n",
    "from textractprettyprinter.t_pretty_print import get_forms_string\n",
    "print(get_forms_string(j))"
   ]
  },
  {
   "cell_type": "code",
   "execution_count": null,
   "id": "78f3a86f",
   "metadata": {},
   "outputs": [],
   "source": []
  }
 ],
 "metadata": {
  "kernelspec": {
   "display_name": "Python 3 (ipykernel)",
   "language": "python",
   "name": "python3"
  },
  "language_info": {
   "codemirror_mode": {
    "name": "ipython",
    "version": 3
   },
   "file_extension": ".py",
   "mimetype": "text/x-python",
   "name": "python",
   "nbconvert_exporter": "python",
   "pygments_lexer": "ipython3",
   "version": "3.9.6"
  }
 },
 "nbformat": 4,
 "nbformat_minor": 5
}
